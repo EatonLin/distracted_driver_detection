{
 "cells": [
  {
   "cell_type": "code",
   "execution_count": 2,
   "metadata": {},
   "outputs": [
    {
     "name": "stdout",
     "output_type": "stream",
     "text": [
      "Load dataset:22424 3\n"
     ]
    }
   ],
   "source": [
    "import matplotlib.pyplot as plt\n",
    "import numpy as np\n",
    "import pandas as pd\n",
    "\n",
    "try:\n",
    "    data = pd.read_csv(\"driver_imgs_list.csv\")\n",
    "    print(\"Load dataset:{} {}\".format(*data.shape))\n",
    "except:\n",
    "    print(\"Dataset could not be loaded. Is the dataset missing?\")"
   ]
  },
  {
   "cell_type": "code",
   "execution_count": 13,
   "metadata": {},
   "outputs": [
    {
     "data": {
      "text/plain": [
       "array([0., 0., 0., 0., 0., 0., 0., 0., 0., 0.])"
      ]
     },
     "execution_count": 13,
     "metadata": {},
     "output_type": "execute_result"
    }
   ],
   "source": [
    "np.zeros(10)"
   ]
  },
  {
   "cell_type": "code",
   "execution_count": 40,
   "metadata": {},
   "outputs": [],
   "source": [
    "class_df = pd.DataFrame(index=['c0', 'c1', 'c2', 'c3', 'c4', 'c5', 'c6', 'c7', 'c8', 'c9'], columns=['Classname Count'])\n",
    "class_df = class_df.fillna(0)\n",
    "\n",
    "for index, row in data.iterrows():\n",
    "    class_df.loc[row[\"classname\"]] += 1"
   ]
  },
  {
   "cell_type": "code",
   "execution_count": 36,
   "metadata": {},
   "outputs": [
    {
     "data": {
      "text/html": [
       "<div>\n",
       "<style scoped>\n",
       "    .dataframe tbody tr th:only-of-type {\n",
       "        vertical-align: middle;\n",
       "    }\n",
       "\n",
       "    .dataframe tbody tr th {\n",
       "        vertical-align: top;\n",
       "    }\n",
       "\n",
       "    .dataframe thead th {\n",
       "        text-align: right;\n",
       "    }\n",
       "</style>\n",
       "<table border=\"1\" class=\"dataframe\">\n",
       "  <thead>\n",
       "    <tr style=\"text-align: right;\">\n",
       "      <th></th>\n",
       "      <th>Count</th>\n",
       "    </tr>\n",
       "  </thead>\n",
       "  <tbody>\n",
       "    <tr>\n",
       "      <th>count</th>\n",
       "      <td>10.000000</td>\n",
       "    </tr>\n",
       "    <tr>\n",
       "      <th>mean</th>\n",
       "      <td>2242.400000</td>\n",
       "    </tr>\n",
       "    <tr>\n",
       "      <th>std</th>\n",
       "      <td>175.387951</td>\n",
       "    </tr>\n",
       "    <tr>\n",
       "      <th>min</th>\n",
       "      <td>1911.000000</td>\n",
       "    </tr>\n",
       "    <tr>\n",
       "      <th>25%</th>\n",
       "      <td>2163.500000</td>\n",
       "    </tr>\n",
       "    <tr>\n",
       "      <th>50%</th>\n",
       "      <td>2314.500000</td>\n",
       "    </tr>\n",
       "    <tr>\n",
       "      <th>75%</th>\n",
       "      <td>2325.750000</td>\n",
       "    </tr>\n",
       "    <tr>\n",
       "      <th>max</th>\n",
       "      <td>2489.000000</td>\n",
       "    </tr>\n",
       "  </tbody>\n",
       "</table>\n",
       "</div>"
      ],
      "text/plain": [
       "             Count\n",
       "count    10.000000\n",
       "mean   2242.400000\n",
       "std     175.387951\n",
       "min    1911.000000\n",
       "25%    2163.500000\n",
       "50%    2314.500000\n",
       "75%    2325.750000\n",
       "max    2489.000000"
      ]
     },
     "execution_count": 36,
     "metadata": {},
     "output_type": "execute_result"
    }
   ],
   "source": [
    "class_df.describe()"
   ]
  },
  {
   "cell_type": "code",
   "execution_count": 18,
   "metadata": {},
   "outputs": [
    {
     "name": "stdout",
     "output_type": "stream",
     "text": [
      "       c0   c1   c2   c3   c4   c5   c6   c7   c8   c9\n",
      "p002   58   59   60   59   58   59   59   59   59   60\n",
      "p012   59   64   60   60   60   61   61   61   59   59\n",
      "p014   62   62   36   31   34    6   35    2   21   56\n",
      "p015   64   63   70   65   62   64   63   64   70   65\n",
      "p016   71   71   84   75   72   72   77   71   71   75\n",
      "p021   74   75   76   75   75   76   71   67   66   68\n",
      "p022   75   74   86   79   84   76   83   72   44   51\n",
      "p024   78   85   88   94  101  101   99   81   86   61\n",
      "p026   79   91   81   86   82   87   81   82   82   83\n",
      "p035   80   80   80   78   82   81   80   74   83   75\n",
      "p039   80   81   85   79   89   79   82   82   79   77\n",
      "p041   82   81   83   84   86   85   82   79   81   76\n",
      "p042   83   81   81   83   79   81   80   79   81   80\n",
      "p045   83   85  119  110  109  116  119   74   79  116\n",
      "p047   83   95   91   89   97   96   75   72   62   62\n",
      "p049   93   81   88   89   89   89   94   87   56   81\n",
      "p050   99   90   96   82   77   81   79   77   61   80\n",
      "p051   99  103  100  100  103  102  101   77   38   52\n",
      "p052  110  102  101  128  104  104  108  101   99  120\n",
      "p056  122   45   52   98   83   91   82   81   65   70\n",
      "p061  128  100  106  101  102  101  105   86  114   90\n",
      "p064  128  129  128  129  130  130  131   98   98  131\n",
      "p066  129  129  128  130  129  131  129  101   99  120\n",
      "p072  129  129  130  131  126  130  128   97   97   98\n",
      "p075  134  131  127  128  132  130  126   98   99  131\n",
      "p081  181   81   81   83   81   83   95   80   62   92\n"
     ]
    }
   ],
   "source": [
    "keys = subject_dict.keys()\n",
    "classes = ['c0', 'c1', 'c2', 'c3', 'c4', 'c5', 'c6', 'c7', 'c8', 'c9']\n",
    "new_df = pd.DataFrame(values_array, index=keys, columns=classes) \n",
    "print(new_df)"
   ]
  },
  {
   "cell_type": "code",
   "execution_count": 41,
   "metadata": {},
   "outputs": [
    {
     "data": {
      "image/png": "[encoded data removed]",
      "text/plain": [
       "<Figure size 432x288 with 1 Axes>"
      ]
     },
     "metadata": {},
     "output_type": "display_data"
    }
   ],
   "source": [
    "ax = class_df.plot(kind='bar')\n",
    "plt.savefig(\"classname_count.png\")\n",
    "plt.show()\n",
    "plt.close()"
   ]
  },
  {
   "cell_type": "code",
   "execution_count": 46,
   "metadata": {},
   "outputs": [
    {
     "name": "stdout",
     "output_type": "stream",
     "text": [
      "Empty DataFrame\n",
      "Columns: [c0, c1, c2, c3, c4, c5, c6, c7, c8, c9]\n",
      "Index: []\n"
     ]
    }
   ],
   "source": [
    "subject_df = pd.DataFrame(columns=['c0', 'c1', 'c2', 'c3', 'c4', 'c5', 'c6', 'c7', 'c8', 'c9'])\n",
    "print(subject_df)"
   ]
  },
  {
   "cell_type": "code",
   "execution_count": 48,
   "metadata": {},
   "outputs": [
    {
     "ename": "TypeError",
     "evalue": "Can only append a Series if ignore_index=True or if the Series has a name",
     "output_type": "error",
     "traceback": [
      "\u001b[0;31m---------------------------------------------------------------------------\u001b[0m",
      "\u001b[0;31mTypeError\u001b[0m                                 Traceback (most recent call last)",
      "\u001b[0;32m<ipython-input-48-5fc28425746d>\u001b[0m in \u001b[0;36m<module>\u001b[0;34m()\u001b[0m\n\u001b[0;32m----> 1\u001b[0;31m \u001b[0msubject_df\u001b[0m\u001b[0;34m.\u001b[0m\u001b[0mappend\u001b[0m\u001b[0;34m(\u001b[0m\u001b[0;34m{\u001b[0m\u001b[0;34m'c0'\u001b[0m\u001b[0;34m:\u001b[0m \u001b[0;36m1\u001b[0m\u001b[0;34m}\u001b[0m\u001b[0;34m)\u001b[0m\u001b[0;34m\u001b[0m\u001b[0m\n\u001b[0m\u001b[1;32m      2\u001b[0m \u001b[0mprint\u001b[0m\u001b[0;34m(\u001b[0m\u001b[0msubject_df\u001b[0m\u001b[0;34m)\u001b[0m\u001b[0;34m\u001b[0m\u001b[0m\n",
      "\u001b[0;32m~/anaconda2/envs/tensorflow/lib/python3.6/site-packages/pandas/core/frame.py\u001b[0m in \u001b[0;36mappend\u001b[0;34m(self, other, ignore_index, verify_integrity)\u001b[0m\n\u001b[1;32m   5162\u001b[0m                 \u001b[0mother\u001b[0m \u001b[0;34m=\u001b[0m \u001b[0mSeries\u001b[0m\u001b[0;34m(\u001b[0m\u001b[0mother\u001b[0m\u001b[0;34m)\u001b[0m\u001b[0;34m\u001b[0m\u001b[0m\n\u001b[1;32m   5163\u001b[0m             \u001b[0;32mif\u001b[0m \u001b[0mother\u001b[0m\u001b[0;34m.\u001b[0m\u001b[0mname\u001b[0m \u001b[0;32mis\u001b[0m \u001b[0;32mNone\u001b[0m \u001b[0;32mand\u001b[0m \u001b[0;32mnot\u001b[0m \u001b[0mignore_index\u001b[0m\u001b[0;34m:\u001b[0m\u001b[0;34m\u001b[0m\u001b[0m\n\u001b[0;32m-> 5164\u001b[0;31m                 raise TypeError('Can only append a Series if ignore_index=True'\n\u001b[0m\u001b[1;32m   5165\u001b[0m                                 ' or if the Series has a name')\n\u001b[1;32m   5166\u001b[0m \u001b[0;34m\u001b[0m\u001b[0m\n",
      "\u001b[0;31mTypeError\u001b[0m: Can only append a Series if ignore_index=True or if the Series has a name"
     ]
    }
   ],
   "source": [
    "classname_temp = \"\"\n",
    "driver_count = 0\n",
    "driver_classname_count = 0\n",
    "drivers_count = 0\n",
    "\n",
    "for index, row in data.iterrows():\n",
    "    if subject_temp is not row[\"subject\"]:\n",
    "        if driver_classname_count > 1:\n",
    "            add_driver_subject_information(subject_dict, subject_temp, classname_temp, driver_classname_count)\n",
    "            driver_classname_count = 0\n",
    "\n",
    "        subject_temp = row[\"subject\"]\n",
    "        driver_count = 1\n",
    "        drivers_count += 1\n",
    "    else:\n",
    "        driver_count += 1\n",
    "        if classname_temp is not row[\"classname\"]:\n",
    "            if driver_classname_count != 0:\n",
    "                add_driver_subject_information(subject_dict, subject_temp, classname_temp, driver_classname_count)\n",
    "            classname_temp = row[\"classname\"]\n",
    "            driver_classname_count = 1\n",
    "        else:\n",
    "            driver_classname_count += 1"
   ]
  },
  {
   "cell_type": "code",
   "execution_count": null,
   "metadata": {},
   "outputs": [],
   "source": []
  }
 ],
 "metadata": {
  "kernelspec": {
   "display_name": "Python 3",
   "language": "python",
   "name": "python3"
  },
  "language_info": {
   "codemirror_mode": {
    "name": "ipython",
    "version": 3
   },
   "file_extension": ".py",
   "mimetype": "text/x-python",
   "name": "python",
   "nbconvert_exporter": "python",
   "pygments_lexer": "ipython3",
   "version": "3.6.5"
  }
 },
 "nbformat": 4,
 "nbformat_minor": 2
}
