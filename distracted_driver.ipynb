{
 "cells": [
  {
   "cell_type": "code",
   "execution_count": 1,
   "metadata": {},
   "outputs": [
    {
     "name": "stdout",
     "output_type": "stream",
     "text": [
      "The autoreload extension is already loaded. To reload it, use:\n",
      "  %reload_ext autoreload\n"
     ]
    }
   ],
   "source": [
    "%reload_ext autoreload\n",
    "%load_ext autoreload\n",
    "% autoreload 2"
   ]
  },
  {
   "cell_type": "code",
   "execution_count": 2,
   "metadata": {},
   "outputs": [
    {
     "name": "stderr",
     "output_type": "stream",
     "text": [
      "/home/ubuntu/anaconda3/envs/tensorflow_p36/lib/python3.6/site-packages/h5py/__init__.py:36: FutureWarning: Conversion of the second argument of issubdtype from `float` to `np.floating` is deprecated. In future, it will be treated as `np.float64 == np.dtype(float).type`.\n",
      "  from ._conv import register_converters as _register_converters\n",
      "Using TensorFlow backend.\n"
     ]
    }
   ],
   "source": [
    "from preprocess_image import *\n",
    "import matplotlib.pyplot as plt\n",
    "import numpy as np\n",
    "import pandas as pd"
   ]
  },
  {
   "cell_type": "markdown",
   "metadata": {},
   "source": [
    "# 浏览项目文件结构\n",
    "\n",
    "已下载了项目内容，观察该项目有3个压缩包:\n",
    "imgs.zip: 包含了训练集与测试集图像，训练集内有10种驾驶状态的图像，其目录树如下:\n",
    "\n",
    ".<br>\n",
    "|test<br>\n",
    "|train<br>\n",
    "|--|c0<br>\n",
    "|--|c1<br>\n",
    "|--|c2<br>\n",
    "|--|c3<br>\n",
    "|--|c4<br>\n",
    "|--|c5<br>\n",
    "|--|c6<br>\n",
    "|--|c7<br>\n",
    "|--|c8<br>\n",
    "|--|c9<br>\n",
    "\n",
    "driver_imgs_list.csv.zip: 含有一份关于所有训练集图像的司机ID与驾驶状态类别的清单文件，可以从中挖掘出总的图像数量，各个驾驶状态类别的图像数量等等信息\n",
    "\n",
    "sample_submission.csv.zip: 含有一份关于测试集图像的清单文件，用于填入每一张图像相对于10种驾驶状态的被识别的概率，即提交结果用。"
   ]
  },
  {
   "cell_type": "markdown",
   "metadata": {},
   "source": [
    "# 读取driver_imgs_list.csv"
   ]
  },
  {
   "cell_type": "code",
   "execution_count": 3,
   "metadata": {},
   "outputs": [
    {
     "name": "stdout",
     "output_type": "stream",
     "text": [
      "Load dataset:22424 3\n"
     ]
    }
   ],
   "source": [
    "try:\n",
    "    img_drivers_df = pd.read_csv(\"../driver_imgs_list.csv\")\n",
    "    print(\"Load dataset:{} {}\".format(*img_drivers_df.shape))\n",
    "except:\n",
    "    print(\"Dataset could not be loaded. Is the dataset missing?\")"
   ]
  },
  {
   "cell_type": "code",
   "execution_count": 3,
   "metadata": {},
   "outputs": [
    {
     "data": {
      "text/html": [
       "<div>\n",
       "<style scoped>\n",
       "    .dataframe tbody tr th:only-of-type {\n",
       "        vertical-align: middle;\n",
       "    }\n",
       "\n",
       "    .dataframe tbody tr th {\n",
       "        vertical-align: top;\n",
       "    }\n",
       "\n",
       "    .dataframe thead th {\n",
       "        text-align: right;\n",
       "    }\n",
       "</style>\n",
       "<table border=\"1\" class=\"dataframe\">\n",
       "  <thead>\n",
       "    <tr style=\"text-align: right;\">\n",
       "      <th></th>\n",
       "      <th>subject</th>\n",
       "      <th>classname</th>\n",
       "      <th>img</th>\n",
       "    </tr>\n",
       "  </thead>\n",
       "  <tbody>\n",
       "    <tr>\n",
       "      <th>count</th>\n",
       "      <td>22424</td>\n",
       "      <td>22424</td>\n",
       "      <td>22424</td>\n",
       "    </tr>\n",
       "    <tr>\n",
       "      <th>unique</th>\n",
       "      <td>26</td>\n",
       "      <td>10</td>\n",
       "      <td>22424</td>\n",
       "    </tr>\n",
       "    <tr>\n",
       "      <th>top</th>\n",
       "      <td>p021</td>\n",
       "      <td>c0</td>\n",
       "      <td>img_40824.jpg</td>\n",
       "    </tr>\n",
       "    <tr>\n",
       "      <th>freq</th>\n",
       "      <td>1237</td>\n",
       "      <td>2489</td>\n",
       "      <td>1</td>\n",
       "    </tr>\n",
       "  </tbody>\n",
       "</table>\n",
       "</div>"
      ],
      "text/plain": [
       "       subject classname            img\n",
       "count    22424     22424          22424\n",
       "unique      26        10          22424\n",
       "top       p021        c0  img_40824.jpg\n",
       "freq      1237      2489              1"
      ]
     },
     "execution_count": 3,
     "metadata": {},
     "output_type": "execute_result"
    }
   ],
   "source": [
    "img_drivers_df.describe()"
   ]
  },
  {
   "cell_type": "code",
   "execution_count": 4,
   "metadata": {},
   "outputs": [
    {
     "data": {
      "text/html": [
       "<div>\n",
       "<style scoped>\n",
       "    .dataframe tbody tr th:only-of-type {\n",
       "        vertical-align: middle;\n",
       "    }\n",
       "\n",
       "    .dataframe tbody tr th {\n",
       "        vertical-align: top;\n",
       "    }\n",
       "\n",
       "    .dataframe thead th {\n",
       "        text-align: right;\n",
       "    }\n",
       "</style>\n",
       "<table border=\"1\" class=\"dataframe\">\n",
       "  <thead>\n",
       "    <tr style=\"text-align: right;\">\n",
       "      <th></th>\n",
       "      <th>subject</th>\n",
       "      <th>classname</th>\n",
       "      <th>img</th>\n",
       "    </tr>\n",
       "  </thead>\n",
       "  <tbody>\n",
       "    <tr>\n",
       "      <th>0</th>\n",
       "      <td>p002</td>\n",
       "      <td>c0</td>\n",
       "      <td>img_44733.jpg</td>\n",
       "    </tr>\n",
       "    <tr>\n",
       "      <th>1</th>\n",
       "      <td>p002</td>\n",
       "      <td>c0</td>\n",
       "      <td>img_72999.jpg</td>\n",
       "    </tr>\n",
       "    <tr>\n",
       "      <th>2</th>\n",
       "      <td>p002</td>\n",
       "      <td>c0</td>\n",
       "      <td>img_25094.jpg</td>\n",
       "    </tr>\n",
       "    <tr>\n",
       "      <th>3</th>\n",
       "      <td>p002</td>\n",
       "      <td>c0</td>\n",
       "      <td>img_69092.jpg</td>\n",
       "    </tr>\n",
       "    <tr>\n",
       "      <th>4</th>\n",
       "      <td>p002</td>\n",
       "      <td>c0</td>\n",
       "      <td>img_92629.jpg</td>\n",
       "    </tr>\n",
       "  </tbody>\n",
       "</table>\n",
       "</div>"
      ],
      "text/plain": [
       "  subject classname            img\n",
       "0    p002        c0  img_44733.jpg\n",
       "1    p002        c0  img_72999.jpg\n",
       "2    p002        c0  img_25094.jpg\n",
       "3    p002        c0  img_69092.jpg\n",
       "4    p002        c0  img_92629.jpg"
      ]
     },
     "execution_count": 4,
     "metadata": {},
     "output_type": "execute_result"
    }
   ],
   "source": [
    "img_drivers_df.head()"
   ]
  },
  {
   "cell_type": "markdown",
   "metadata": {},
   "source": [
    "# 统计训练集中10种驾驶状态的图像数量"
   ]
  },
  {
   "cell_type": "code",
   "execution_count": 5,
   "metadata": {
    "collapsed": true
   },
   "outputs": [],
   "source": [
    "class_df = pd.DataFrame(index=['c0', 'c1', 'c2', 'c3', 'c4', 'c5', 'c6', 'c7', 'c8', 'c9'], columns=['Classname Count'])\n",
    "class_df = class_df.fillna(0)\n",
    "\n",
    "for index, row in img_drivers_df.iterrows():\n",
    "    class_df.loc[row[\"classname\"]] += 1"
   ]
  },
  {
   "cell_type": "code",
   "execution_count": 6,
   "metadata": {},
   "outputs": [
    {
     "data": {
      "text/html": [
       "<div>\n",
       "<style scoped>\n",
       "    .dataframe tbody tr th:only-of-type {\n",
       "        vertical-align: middle;\n",
       "    }\n",
       "\n",
       "    .dataframe tbody tr th {\n",
       "        vertical-align: top;\n",
       "    }\n",
       "\n",
       "    .dataframe thead th {\n",
       "        text-align: right;\n",
       "    }\n",
       "</style>\n",
       "<table border=\"1\" class=\"dataframe\">\n",
       "  <thead>\n",
       "    <tr style=\"text-align: right;\">\n",
       "      <th></th>\n",
       "      <th>Classname Count</th>\n",
       "    </tr>\n",
       "  </thead>\n",
       "  <tbody>\n",
       "    <tr>\n",
       "      <th>count</th>\n",
       "      <td>10.000000</td>\n",
       "    </tr>\n",
       "    <tr>\n",
       "      <th>mean</th>\n",
       "      <td>2242.400000</td>\n",
       "    </tr>\n",
       "    <tr>\n",
       "      <th>std</th>\n",
       "      <td>175.387951</td>\n",
       "    </tr>\n",
       "    <tr>\n",
       "      <th>min</th>\n",
       "      <td>1911.000000</td>\n",
       "    </tr>\n",
       "    <tr>\n",
       "      <th>25%</th>\n",
       "      <td>2163.500000</td>\n",
       "    </tr>\n",
       "    <tr>\n",
       "      <th>50%</th>\n",
       "      <td>2314.500000</td>\n",
       "    </tr>\n",
       "    <tr>\n",
       "      <th>75%</th>\n",
       "      <td>2325.750000</td>\n",
       "    </tr>\n",
       "    <tr>\n",
       "      <th>max</th>\n",
       "      <td>2489.000000</td>\n",
       "    </tr>\n",
       "  </tbody>\n",
       "</table>\n",
       "</div>"
      ],
      "text/plain": [
       "       Classname Count\n",
       "count        10.000000\n",
       "mean       2242.400000\n",
       "std         175.387951\n",
       "min        1911.000000\n",
       "25%        2163.500000\n",
       "50%        2314.500000\n",
       "75%        2325.750000\n",
       "max        2489.000000"
      ]
     },
     "execution_count": 6,
     "metadata": {},
     "output_type": "execute_result"
    }
   ],
   "source": [
    "class_df.describe()"
   ]
  },
  {
   "cell_type": "code",
   "execution_count": 7,
   "metadata": {},
   "outputs": [
    {
     "data": {
      "image/png": "[encoded data removed]",
      "text/plain": [
       "<Figure size 432x288 with 1 Axes>"
      ]
     },
     "metadata": {},
     "output_type": "display_data"
    }
   ],
   "source": [
    "ax = class_df.plot(kind='bar')\n",
    "plt.savefig(\"classname_count.png\")\n",
    "plt.show()\n",
    "plt.close()"
   ]
  },
  {
   "cell_type": "markdown",
   "metadata": {},
   "source": [
    "# 统计训练集中各个司机分别对于10种驾驶状态的图像数量"
   ]
  },
  {
   "cell_type": "code",
   "execution_count": 8,
   "metadata": {
    "collapsed": true
   },
   "outputs": [],
   "source": [
    "subject_dict = {}\n",
    "subject_temp = \"\"\n",
    "classname_temp = \"\"\n",
    "driver_count = 0\n",
    "driver_classname_count = 0\n",
    "drivers_count = 0\n",
    "\n",
    "\n",
    "def add_driver_subject_information(dict, subject, classname, count):\n",
    "    if subject in dict:\n",
    "        dict[subject].append(count)\n",
    "    else:\n",
    "        dict[subject] = [count]\n",
    "\n",
    "for index, row in img_drivers_df.iterrows():\n",
    "    if subject_temp is not row[\"subject\"]:\n",
    "        if driver_classname_count > 1:\n",
    "            add_driver_subject_information(subject_dict, subject_temp, classname_temp, driver_classname_count)\n",
    "            driver_classname_count = 0\n",
    "\n",
    "        subject_temp = row[\"subject\"]\n",
    "        driver_count = 1\n",
    "        drivers_count += 1\n",
    "    else:\n",
    "        driver_count += 1\n",
    "        if classname_temp is not row[\"classname\"]:\n",
    "            if driver_classname_count != 0:\n",
    "                driver_classname_count += 1\n",
    "                add_driver_subject_information(subject_dict, subject_temp, classname_temp, driver_classname_count)\n",
    "            classname_temp = row[\"classname\"]\n",
    "            driver_classname_count = 1\n",
    "        else:\n",
    "            driver_classname_count += 1\n",
    "            \n",
    "add_driver_subject_information(subject_dict, subject_temp, classname_temp, driver_classname_count)"
   ]
  },
  {
   "cell_type": "code",
   "execution_count": 9,
   "metadata": {},
   "outputs": [
    {
     "name": "stdout",
     "output_type": "stream",
     "text": [
      "       c0   c1   c2   c3   c4   c5   c6   c7   c8   c9\n",
      "p002   76   75   87   80   85   77   84   73   45   51\n",
      "p012   84   96   92   90   98   97   76   73   63   62\n",
      "p014  100  104  101  101  104  103  102   78   39   52\n",
      "p015   79   86   89   95  102  102  100   82   87   61\n",
      "p016  111  103  102  129  105  105  109  102  100  120\n",
      "p021  135  132  128  129  133  131  127   99  100  131\n",
      "p022  129  130  129  130  131  131  132   99   99  131\n",
      "p024  130  130  129  131  130  132  130  102  100  120\n",
      "p026  130  130  131  132  127  131  129   98   98   98\n",
      "p035   94   82   89   90   90   90   95   88   57   81\n",
      "p039   65   64   71   66   63   65   64   65   71   65\n",
      "p041   60   65   61   61   61   62   62   62   60   59\n",
      "p042   59   60   61   60   59   60   60   60   60   60\n",
      "p045   75   76   77   76   76   77   72   68   67   68\n",
      "p047   80   92   82   87   83   88   82   83   83   83\n",
      "p049   84   86  120  111  110  117  120   75   80  116\n",
      "p050  123   46   53   99   84   92   83   82   66   70\n",
      "p051  182   82   82   84   82   84   96   81   63   92\n",
      "p052   72   72   85   76   73   73   78   72   72   75\n",
      "p056   81   81   81   79   83   82   81   75   84   75\n",
      "p061   84   82   82   84   80   82   81   80   82   80\n",
      "p064   83   82   84   85   87   86   83   80   82   76\n",
      "p066  129  101  107  102  103  102  106   87  115   90\n",
      "p072   63   63   37   32   35    7   36    3   22   56\n",
      "p075   81   82   86   80   90   80   83   83   80   77\n",
      "p081  100   91   97   83   78   82   80   78   62   80\n"
     ]
    }
   ],
   "source": [
    "subject_df = pd.DataFrame(index=subject_dict.keys(),\n",
    "                          columns=['c0', 'c1', 'c2', 'c3', 'c4', 'c5', 'c6', 'c7', 'c8', 'c9'])\n",
    "for key in subject_dict.keys():\n",
    "    subject_df.loc[key] = subject_dict[key]\n",
    "\n",
    "print(subject_df)"
   ]
  },
  {
   "cell_type": "markdown",
   "metadata": {
    "collapsed": true
   },
   "source": [
    "# 图像数据预处理\n",
    "\n",
    "## 1. 挑出训练集异常值\n",
    "\n",
    "观察训练集各个驾驶状态分类的图像，发现存在有部分图像与该驾驶状态不符，以及难以区分的图像，我采用保留难以区分的图像，只找出与该驾驶状态不符的图像，并调用append_outliers_to_dict函数将异常值收集起来"
   ]
  },
  {
   "cell_type": "code",
   "execution_count": 43,
   "metadata": {},
   "outputs": [],
   "source": [
    "image_outliers = {}"
   ]
  },
  {
   "cell_type": "code",
   "execution_count": 9,
   "metadata": {},
   "outputs": [],
   "source": [
    "# 添加C0异常值\n",
    "outliers = ['100074', '101091', '101392', '101419', '101555', '101668', '10514', '14552', '14757', '16927',\n",
    "            '18680', '20144', '21155', '2151', '21699', '27453', '27568', '2843', '28578', '29350',\n",
    "            '31032', '31659', '3349', '34028', '34380', '35327', '35809', '3600', '36287', '36854',\n",
    "            '37728', '38288', '41079', '4335', '45005', '45571', '47447', '48931', '49150', '51985',\n",
    "            '53288', '54712', '56120', '56251', '56357', '58013', '58551', '5963', '6002', '60226',\n",
    "            '62095', '62383', '66097', '68134', '68246', '68266', '68629', '68630', '70795', '71478',\n",
    "            '71483', '71499', '73825', '79194', '81035', '81735', '86913', '87245', '88085', '89173',\n",
    "            '89653', '90273', '90865', '91414', '91777', '94842', '94969', '95252', '95596', '96741',\n",
    "            '99515', '99779', '99846']\n",
    "append_outliers_to_dict('c0', outliers)\n",
    "\n",
    "# 添加C1异常值\n",
    "outliers = []\n",
    "append_outliers_to_dict('c1', outliers)\n",
    "\n",
    "# 添加C2异常值\n",
    "outliers = ['69693', '76349', '86001']\n",
    "append_outliers_to_dict('c2', outliers)\n",
    "\n",
    "# 添加C3异常值\n",
    "outliers = []\n",
    "append_outliers_to_dict('c3', outliers)\n",
    "\n",
    "# 添加C4异常值\n",
    "outliers = ['35657', '38427', '40343', '53828', '63738', '77347', '9170', '92769']\n",
    "append_outliers_to_dict('c4', outliers)\n",
    "\n",
    "# 添加C5异常值\n",
    "outliers = ['101079', '12442', '19127', '27454', '44224', '78504', '87062']\n",
    "append_outliers_to_dict('c5', outliers)\n",
    "\n",
    "# 添加C6异常值\n",
    "outliers = []\n",
    "append_outliers_to_dict('c6', outliers)\n",
    "\n",
    "# 添加C7异常值\n",
    "outliers = ['74115', '7414', '95214']\n",
    "append_outliers_to_dict('c7', outliers)\n",
    "\n",
    "# 添加C8异常值\n",
    "outliers = ['10080', '100814', '11324', '13465', '13480', '13438', '13868', '14072', '14084', '14560',\n",
    "            '16971', '17480', '18737', '18970', '19323', '19616', '22941', '22971', '2378', '25081',\n",
    "            '26296', '26736', '27663', '27671', '31158', '31174', '36457', '37314', '41462', '42490',\n",
    "            '47484', '4853', '53436', '53620', '54379', '55008', '56078', '56122', '73917', '76663',\n",
    "            '83361', '89614']\n",
    "append_outliers_to_dict('c8', outliers)\n",
    "\n",
    "# 添加C9异常值\n",
    "outliers = ['11675', '10917', '1125', '11528', '11675', '12000', '12001', '12154', '13253', '13396',\n",
    "            '13762', '13982', '14737', '16428', '17355', '18759', '18819', '18997', '19209', '20002',\n",
    "            '20688', '20775', '21708', '21897', '24030', '24134', '24554', '25913', '26043', '26484',\n",
    "            '27342', '28025', '29320', '29556', '29906', '30092', '30172', '30893', '32125', '3318',\n",
    "            '37262', '38453', '38742', '44953', '51826', '52610', '52861', '59747', '60004', '607',\n",
    "            '61052', '60822', '60903', '61052', '62766', '66278', '67477', '68251', '69130', '69560',\n",
    "            '69710', '7091', '71015', '75597', '77889', '78934', '81214', '83528', '83868', '8480',\n",
    "            '8572', '87154', '89196', '91129', '96805', '97943']\n",
    "append_outliers_to_dict('c9', outliers)"
   ]
  },
  {
   "cell_type": "markdown",
   "metadata": {},
   "source": [
    "## 2. 将被修改尺寸的新图像保存到指定路径\n",
    "因为不同模型需要改的尺寸不一样，保存的路径需要加以区分"
   ]
  },
  {
   "cell_type": "markdown",
   "metadata": {},
   "source": [
    "### CNN模型"
   ]
  },
  {
   "cell_type": "code",
   "execution_count": 11,
   "metadata": {
    "collapsed": true
   },
   "outputs": [],
   "source": [
    "target_model_name = 'cnn/'\n",
    "resize_image_directory = '../resize/'\n",
    "origin_image_directory = '../train/'\n",
    "test_image_directory = '../test/'\n",
    "cnn_train_image_directory = resize_image_directory + target_model_name + 'train/'\n",
    "cnn_valid_image_directory = resize_image_directory + target_model_name + 'valid/'\n",
    "cnn_test_image_directory = resize_image_directory + target_model_name + 'test/'\n",
    "cnn_image_shape = (128, 128)\n",
    "cnn_tensor_shape = [cnn_image_shape[0], cnn_image_shape[1], 3]\n",
    "class_num = len(np.unique(np.asarray(img_drivers_df)[:,1]))"
   ]
  },
  {
   "cell_type": "markdown",
   "metadata": {},
   "source": [
    "## 3. 划分训练集与验证集\n",
    "导出driver id列表并随机排序，按4:1比例划分训练集与验证集，并且从中剔除所收集到的异常值"
   ]
  },
  {
   "cell_type": "code",
   "execution_count": 27,
   "metadata": {},
   "outputs": [
    {
     "ename": "SyntaxError",
     "evalue": "invalid syntax (<ipython-input-27-1f52ef67ad91>, line 6)",
     "output_type": "error",
     "traceback": [
      "\u001b[0;36m  File \u001b[0;32m\"<ipython-input-27-1f52ef67ad91>\"\u001b[0;36m, line \u001b[0;32m6\u001b[0m\n\u001b[0;31m    origin_image_directory,\u001b[0m\n\u001b[0m                         ^\u001b[0m\n\u001b[0;31mSyntaxError\u001b[0m\u001b[0;31m:\u001b[0m invalid syntax\n"
     ]
    }
   ],
   "source": [
    "feature_train, label_train, feature_valid, label_valid = \\\n",
    "        train_valid_split(\n",
    "            img_drivers_df,\n",
    "            0.2,\n",
    "            cnn_train_image_directory,\n",
    "            cnn_valid_image_directory\n",
    "            origin_image_directory,\n",
    "            cnn_image_shape)"
   ]
  },
  {
   "cell_type": "markdown",
   "metadata": {
    "collapsed": true
   },
   "source": [
    "## 搭建模型"
   ]
  },
  {
   "cell_type": "markdown",
   "metadata": {},
   "source": [
    "### CNN模型"
   ]
  },
  {
   "cell_type": "code",
   "execution_count": null,
   "metadata": {},
   "outputs": [],
   "source": [
    "from cnn_model import *"
   ]
  },
  {
   "cell_type": "code",
   "execution_count": null,
   "metadata": {},
   "outputs": [],
   "source": [
    "conv2d_ksize = (5, 5)\n",
    "conv2d_strides = (1, 1)\n",
    "maxpool_ksize = (2, 2)\n",
    "maxpool_strides = (2, 2)\n",
    "epoch = 50\n",
    "keep_probability = 0.5\n",
    "batch_size = int(len(feature_train) / 1024)"
   ]
  },
  {
   "cell_type": "code",
   "execution_count": null,
   "metadata": {},
   "outputs": [],
   "source": [
    "# run_cnn(cnn_tensor_shape, \n",
    "#         np.asarray(feature_train), \n",
    "#         np.asarray(label_train), \n",
    "#         np.asarray(feature_valid), \n",
    "#         np.asarray(label_valid), \n",
    "#         conv2d_ksize,\n",
    "#         conv2d_strides,\n",
    "#         maxpool_ksize,\n",
    "#         maxpool_strides,\n",
    "#         epoch, \n",
    "#         keep_probability, \n",
    "#         batch_size, class_num)"
   ]
  },
  {
   "cell_type": "markdown",
   "metadata": {
    "collapsed": true
   },
   "source": [
    "### Inception V3 模型"
   ]
  },
  {
   "cell_type": "code",
   "execution_count": 10,
   "metadata": {},
   "outputs": [],
   "source": [
    "import importlib\n",
    "from models.inception_v3_model import InceptionV3Model\n",
    "from preprocess_image import *"
   ]
  },
  {
   "cell_type": "code",
   "execution_count": 11,
   "metadata": {},
   "outputs": [],
   "source": [
    "model = InceptionV3Model('../resize/')"
   ]
  },
  {
   "cell_type": "code",
   "execution_count": 12,
   "metadata": {},
   "outputs": [
    {
     "name": "stdout",
     "output_type": "stream",
     "text": [
      "Drivers size:26 valid_total:5\n",
      "Loading completed\n"
     ]
    }
   ],
   "source": [
    "model.preprocess(img_drivers_df, 0.2, '../train')"
   ]
  },
  {
   "cell_type": "markdown",
   "metadata": {},
   "source": [
    "#### 实测batch_size应该设在64"
   ]
  },
  {
   "cell_type": "code",
   "execution_count": 13,
   "metadata": {},
   "outputs": [
    {
     "name": "stdout",
     "output_type": "stream",
     "text": [
      "No train model, start training.\n",
      "Transfer learning...\n",
      "Train on 17789 samples, validate on 4635 samples\n",
      "Epoch 1/10\n",
      "17789/17789 [==============================] - 147s 8ms/step - loss: 0.6545 - acc: 0.7640 - val_loss: 11.6754 - val_acc: 0.1877\n",
      "Epoch 2/10\n",
      "17789/17789 [==============================] - 120s 7ms/step - loss: 0.1063 - acc: 0.9695 - val_loss: 0.7056 - val_acc: 0.8343\n",
      "Epoch 3/10\n",
      "17789/17789 [==============================] - 120s 7ms/step - loss: 0.0528 - acc: 0.9863 - val_loss: 3.2603 - val_acc: 0.6209\n",
      "Epoch 4/10\n",
      "17789/17789 [==============================] - 120s 7ms/step - loss: 0.0440 - acc: 0.9875 - val_loss: 1.4892 - val_acc: 0.7238\n",
      "Epoch 5/10\n",
      "17789/17789 [==============================] - 120s 7ms/step - loss: 0.0406 - acc: 0.9892 - val_loss: 1.4310 - val_acc: 0.6326\n",
      "Epoch 6/10\n",
      "17789/17789 [==============================] - 120s 7ms/step - loss: 0.0461 - acc: 0.9868 - val_loss: 0.7582 - val_acc: 0.8598\n",
      "Epoch 7/10\n",
      "17789/17789 [==============================] - 120s 7ms/step - loss: 0.0259 - acc: 0.9929 - val_loss: 3.5826 - val_acc: 0.5051\n",
      "Epoch 8/10\n",
      "17789/17789 [==============================] - 120s 7ms/step - loss: 0.0310 - acc: 0.9908 - val_loss: 0.8850 - val_acc: 0.8013\n",
      "Epoch 9/10\n",
      "17789/17789 [==============================] - 120s 7ms/step - loss: 0.0343 - acc: 0.9903 - val_loss: 1.4522 - val_acc: 0.7072\n",
      "Epoch 10/10\n",
      "17789/17789 [==============================] - 120s 7ms/step - loss: 0.0283 - acc: 0.9926 - val_loss: 2.2234 - val_acc: 0.6906\n"
     ]
    },
    {
     "data": {
      "image/png": "[encoded data removed]",
      "text/plain": [
       "<Figure size 432x288 with 1 Axes>"
      ]
     },
     "metadata": {},
     "output_type": "display_data"
    },
    {
     "data": {
      "image/png": "[encoded data removed]",
      "text/plain": [
       "<Figure size 432x288 with 1 Axes>"
      ]
     },
     "metadata": {},
     "output_type": "display_data"
    },
    {
     "name": "stdout",
     "output_type": "stream",
     "text": [
      "Fine-tuning...\n",
      "Train on 17789 samples, validate on 4635 samples\n",
      "Epoch 1/10\n",
      "17789/17789 [==============================] - 121s 7ms/step - loss: 0.0144 - acc: 0.9963 - val_loss: 0.6216 - val_acc: 0.8729\n",
      "Epoch 2/10\n",
      "17789/17789 [==============================] - 108s 6ms/step - loss: 0.0093 - acc: 0.9980 - val_loss: 0.6028 - val_acc: 0.8740\n",
      "Epoch 3/10\n",
      "17789/17789 [==============================] - 108s 6ms/step - loss: 0.0066 - acc: 0.9980 - val_loss: 0.5946 - val_acc: 0.8744\n",
      "Epoch 4/10\n",
      "17789/17789 [==============================] - 108s 6ms/step - loss: 0.0059 - acc: 0.9987 - val_loss: 0.6017 - val_acc: 0.8736\n",
      "Epoch 5/10\n",
      "17789/17789 [==============================] - 108s 6ms/step - loss: 0.0053 - acc: 0.9989 - val_loss: 0.6099 - val_acc: 0.8729\n",
      "Epoch 6/10\n",
      "17789/17789 [==============================] - 108s 6ms/step - loss: 0.0057 - acc: 0.9986 - val_loss: 0.6022 - val_acc: 0.8725\n",
      "Epoch 7/10\n",
      "17789/17789 [==============================] - 108s 6ms/step - loss: 0.0048 - acc: 0.9988 - val_loss: 0.6123 - val_acc: 0.8699\n",
      "Epoch 8/10\n",
      "17789/17789 [==============================] - 108s 6ms/step - loss: 0.0043 - acc: 0.9988 - val_loss: 0.6124 - val_acc: 0.8708\n",
      "Epoch 9/10\n",
      "17789/17789 [==============================] - 108s 6ms/step - loss: 0.0040 - acc: 0.9991 - val_loss: 0.6092 - val_acc: 0.8723\n",
      "Epoch 10/10\n",
      "17789/17789 [==============================] - 108s 6ms/step - loss: 0.0039 - acc: 0.9993 - val_loss: 0.6126 - val_acc: 0.8729\n"
     ]
    },
    {
     "data": {
      "image/png": "[encoded data removed]",
      "text/plain": [
       "<Figure size 432x288 with 1 Axes>"
      ]
     },
     "metadata": {},
     "output_type": "display_data"
    },
    {
     "data": {
      "image/png": "[encoded data removed]",
      "text/plain": [
       "<Figure size 432x288 with 1 Axes>"
      ]
     },
     "metadata": {},
     "output_type": "display_data"
    },
    {
     "name": "stdout",
     "output_type": "stream",
     "text": [
      "Model saving...\n",
      "Completed\n"
     ]
    }
   ],
   "source": [
    "model.run(64, 10)"
   ]
  },
  {
   "cell_type": "code",
   "execution_count": null,
   "metadata": {},
   "outputs": [],
   "source": [
    "model.plot_train()"
   ]
  },
  {
   "cell_type": "code",
   "execution_count": 14,
   "metadata": {},
   "outputs": [
    {
     "data": {
      "text/plain": [
       "array([[1.1640132e-09, 2.6889677e-10, 1.5616592e-12, 1.9653386e-08,\n",
       "        3.0451768e-09, 1.0000000e+00, 2.0872634e-10, 1.2053961e-10,\n",
       "        3.6281736e-10, 1.2195876e-08]], dtype=float32)"
      ]
     },
     "execution_count": 14,
     "metadata": {},
     "output_type": "execute_result"
    }
   ],
   "source": [
    "model.predict('../test/img_1.jpg')"
   ]
  },
  {
   "cell_type": "code",
   "execution_count": null,
   "metadata": {
    "collapsed": true
   },
   "outputs": [],
   "source": [
    "with tf.Session() as sess:\n",
    "    softmax_tensor = sess.graph.get_tensor_by_name('inceptionv3_25000.model')\n",
    "    \n",
    "    predictions = sess.run(softmax_tensor, \\\n",
    "             {'DecodeJpeg/contents:0': image_data})\n",
    "    \n",
    "    # Sort to show labels of first prediction in order of confidence\n",
    "    top_k = predictions[0].argsort()[-len(predictions[0]):][::-1]\n",
    "    \n",
    "    for node_id in top_k:\n",
    "        human_string = label_lines[node_id]\n",
    "        score = predictions[0][node_id]\n",
    "        print('%s (score = %.5f)' % (human_string, score))"
   ]
  },
  {
   "cell_type": "code",
   "execution_count": null,
   "metadata": {},
   "outputs": [],
   "source": []
  }
 ],
 "metadata": {
  "kernelspec": {
   "display_name": "Python 3",
   "language": "python",
   "name": "python3"
  },
  "language_info": {
   "codemirror_mode": {
    "name": "ipython",
    "version": 3
   },
   "file_extension": ".py",
   "mimetype": "text/x-python",
   "name": "python",
   "nbconvert_exporter": "python",
   "pygments_lexer": "ipython3",
   "version": "3.6.4"
  }
 },
 "nbformat": 4,
 "nbformat_minor": 2
}
