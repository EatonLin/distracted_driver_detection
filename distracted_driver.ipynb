{
 "cells": [
  {
   "cell_type": "code",
   "execution_count": 2,
   "metadata": {},
   "outputs": [],
   "source": [
    "from preprocess_image import *\n",
    "import matplotlib.pyplot as plt\n",
    "import numpy as np\n",
    "import pandas as pd"
   ]
  },
  {
   "cell_type": "code",
   "execution_count": 3,
   "metadata": {},
   "outputs": [
    {
     "name": "stdout",
     "output_type": "stream",
     "text": [
      "Dataset could not be loaded. Is the dataset missing?\n"
     ]
    }
   ],
   "source": [
    "try:\n",
    "    img_drivers_df = pd.read_csv(\"driver_imgs_list.csv\")\n",
    "    print(\"Load dataset:{} {}\".format(*data.shape))\n",
    "except:\n",
    "    print(\"Dataset could not be loaded. Is the dataset missing?\")"
   ]
  },
  {
   "cell_type": "code",
   "execution_count": 3,
   "metadata": {},
   "outputs": [
    {
     "data": {
      "text/html": [
       "<div>\n",
       "<style scoped>\n",
       "    .dataframe tbody tr th:only-of-type {\n",
       "        vertical-align: middle;\n",
       "    }\n",
       "\n",
       "    .dataframe tbody tr th {\n",
       "        vertical-align: top;\n",
       "    }\n",
       "\n",
       "    .dataframe thead th {\n",
       "        text-align: right;\n",
       "    }\n",
       "</style>\n",
       "<table border=\"1\" class=\"dataframe\">\n",
       "  <thead>\n",
       "    <tr style=\"text-align: right;\">\n",
       "      <th></th>\n",
       "      <th>subject</th>\n",
       "      <th>classname</th>\n",
       "      <th>img</th>\n",
       "    </tr>\n",
       "  </thead>\n",
       "  <tbody>\n",
       "    <tr>\n",
       "      <th>count</th>\n",
       "      <td>22424</td>\n",
       "      <td>22424</td>\n",
       "      <td>22424</td>\n",
       "    </tr>\n",
       "    <tr>\n",
       "      <th>unique</th>\n",
       "      <td>26</td>\n",
       "      <td>10</td>\n",
       "      <td>22424</td>\n",
       "    </tr>\n",
       "    <tr>\n",
       "      <th>top</th>\n",
       "      <td>p021</td>\n",
       "      <td>c0</td>\n",
       "      <td>img_3384.jpg</td>\n",
       "    </tr>\n",
       "    <tr>\n",
       "      <th>freq</th>\n",
       "      <td>1237</td>\n",
       "      <td>2489</td>\n",
       "      <td>1</td>\n",
       "    </tr>\n",
       "  </tbody>\n",
       "</table>\n",
       "</div>"
      ],
      "text/plain": [
       "       subject classname           img\n",
       "count    22424     22424         22424\n",
       "unique      26        10         22424\n",
       "top       p021        c0  img_3384.jpg\n",
       "freq      1237      2489             1"
      ]
     },
     "execution_count": 3,
     "metadata": {},
     "output_type": "execute_result"
    }
   ],
   "source": [
    "data.describe()"
   ]
  },
  {
   "cell_type": "code",
   "execution_count": 3,
   "metadata": {},
   "outputs": [
    {
     "data": {
      "text/html": [
       "<div>\n",
       "<style scoped>\n",
       "    .dataframe tbody tr th:only-of-type {\n",
       "        vertical-align: middle;\n",
       "    }\n",
       "\n",
       "    .dataframe tbody tr th {\n",
       "        vertical-align: top;\n",
       "    }\n",
       "\n",
       "    .dataframe thead th {\n",
       "        text-align: right;\n",
       "    }\n",
       "</style>\n",
       "<table border=\"1\" class=\"dataframe\">\n",
       "  <thead>\n",
       "    <tr style=\"text-align: right;\">\n",
       "      <th></th>\n",
       "      <th>subject</th>\n",
       "      <th>classname</th>\n",
       "      <th>img</th>\n",
       "    </tr>\n",
       "  </thead>\n",
       "  <tbody>\n",
       "    <tr>\n",
       "      <th>0</th>\n",
       "      <td>p002</td>\n",
       "      <td>c0</td>\n",
       "      <td>img_44733.jpg</td>\n",
       "    </tr>\n",
       "    <tr>\n",
       "      <th>1</th>\n",
       "      <td>p002</td>\n",
       "      <td>c0</td>\n",
       "      <td>img_72999.jpg</td>\n",
       "    </tr>\n",
       "    <tr>\n",
       "      <th>2</th>\n",
       "      <td>p002</td>\n",
       "      <td>c0</td>\n",
       "      <td>img_25094.jpg</td>\n",
       "    </tr>\n",
       "    <tr>\n",
       "      <th>3</th>\n",
       "      <td>p002</td>\n",
       "      <td>c0</td>\n",
       "      <td>img_69092.jpg</td>\n",
       "    </tr>\n",
       "    <tr>\n",
       "      <th>4</th>\n",
       "      <td>p002</td>\n",
       "      <td>c0</td>\n",
       "      <td>img_92629.jpg</td>\n",
       "    </tr>\n",
       "  </tbody>\n",
       "</table>\n",
       "</div>"
      ],
      "text/plain": [
       "  subject classname            img\n",
       "0    p002        c0  img_44733.jpg\n",
       "1    p002        c0  img_72999.jpg\n",
       "2    p002        c0  img_25094.jpg\n",
       "3    p002        c0  img_69092.jpg\n",
       "4    p002        c0  img_92629.jpg"
      ]
     },
     "execution_count": 3,
     "metadata": {},
     "output_type": "execute_result"
    }
   ],
   "source": [
    "data.head()"
   ]
  },
  {
   "cell_type": "code",
   "execution_count": 4,
   "metadata": {
    "collapsed": true
   },
   "outputs": [],
   "source": [
    "class_df = pd.DataFrame(index=['c0', 'c1', 'c2', 'c3', 'c4', 'c5', 'c6', 'c7', 'c8', 'c9'], columns=['Classname Count'])\n",
    "class_df = class_df.fillna(0)\n",
    "\n",
    "for index, row in data.iterrows():\n",
    "    class_df.loc[row[\"classname\"]] += 1"
   ]
  },
  {
   "cell_type": "code",
   "execution_count": 5,
   "metadata": {},
   "outputs": [
    {
     "data": {
      "text/html": [
       "<div>\n",
       "<style scoped>\n",
       "    .dataframe tbody tr th:only-of-type {\n",
       "        vertical-align: middle;\n",
       "    }\n",
       "\n",
       "    .dataframe tbody tr th {\n",
       "        vertical-align: top;\n",
       "    }\n",
       "\n",
       "    .dataframe thead th {\n",
       "        text-align: right;\n",
       "    }\n",
       "</style>\n",
       "<table border=\"1\" class=\"dataframe\">\n",
       "  <thead>\n",
       "    <tr style=\"text-align: right;\">\n",
       "      <th></th>\n",
       "      <th>Classname Count</th>\n",
       "    </tr>\n",
       "  </thead>\n",
       "  <tbody>\n",
       "    <tr>\n",
       "      <th>count</th>\n",
       "      <td>10.000000</td>\n",
       "    </tr>\n",
       "    <tr>\n",
       "      <th>mean</th>\n",
       "      <td>2242.400000</td>\n",
       "    </tr>\n",
       "    <tr>\n",
       "      <th>std</th>\n",
       "      <td>175.387951</td>\n",
       "    </tr>\n",
       "    <tr>\n",
       "      <th>min</th>\n",
       "      <td>1911.000000</td>\n",
       "    </tr>\n",
       "    <tr>\n",
       "      <th>25%</th>\n",
       "      <td>2163.500000</td>\n",
       "    </tr>\n",
       "    <tr>\n",
       "      <th>50%</th>\n",
       "      <td>2314.500000</td>\n",
       "    </tr>\n",
       "    <tr>\n",
       "      <th>75%</th>\n",
       "      <td>2325.750000</td>\n",
       "    </tr>\n",
       "    <tr>\n",
       "      <th>max</th>\n",
       "      <td>2489.000000</td>\n",
       "    </tr>\n",
       "  </tbody>\n",
       "</table>\n",
       "</div>"
      ],
      "text/plain": [
       "       Classname Count\n",
       "count        10.000000\n",
       "mean       2242.400000\n",
       "std         175.387951\n",
       "min        1911.000000\n",
       "25%        2163.500000\n",
       "50%        2314.500000\n",
       "75%        2325.750000\n",
       "max        2489.000000"
      ]
     },
     "execution_count": 5,
     "metadata": {},
     "output_type": "execute_result"
    }
   ],
   "source": [
    "class_df.describe()"
   ]
  },
  {
   "cell_type": "code",
   "execution_count": 6,
   "metadata": {},
   "outputs": [
    {
     "data": {
      "image/png": "[encoded data removed]",
      "text/plain": [
       "<Figure size 432x288 with 1 Axes>"
      ]
     },
     "metadata": {},
     "output_type": "display_data"
    }
   ],
   "source": [
    "ax = class_df.plot(kind='bar')\n",
    "plt.savefig(\"classname_count.png\")\n",
    "plt.show()\n",
    "plt.close()"
   ]
  },
  {
   "cell_type": "code",
   "execution_count": 7,
   "metadata": {
    "collapsed": true
   },
   "outputs": [],
   "source": [
    "subject_dict = {}\n",
    "subject_temp = \"\"\n",
    "classname_temp = \"\"\n",
    "driver_count = 0\n",
    "driver_classname_count = 0\n",
    "drivers_count = 0\n",
    "\n",
    "\n",
    "def add_driver_subject_information(dict, subject, classname, count):\n",
    "    if subject in dict:\n",
    "        dict[subject].append(count)\n",
    "    else:\n",
    "        dict[subject] = [count]\n",
    "\n",
    "for index, row in data.iterrows():\n",
    "    if subject_temp is not row[\"subject\"]:\n",
    "        if driver_classname_count > 1:\n",
    "            add_driver_subject_information(subject_dict, subject_temp, classname_temp, driver_classname_count)\n",
    "            driver_classname_count = 0\n",
    "\n",
    "        subject_temp = row[\"subject\"]\n",
    "        driver_count = 1\n",
    "        drivers_count += 1\n",
    "    else:\n",
    "        driver_count += 1\n",
    "        if classname_temp is not row[\"classname\"]:\n",
    "            if driver_classname_count != 0:\n",
    "                driver_classname_count += 1\n",
    "                add_driver_subject_information(subject_dict, subject_temp, classname_temp, driver_classname_count)\n",
    "            classname_temp = row[\"classname\"]\n",
    "            driver_classname_count = 1\n",
    "        else:\n",
    "            driver_classname_count += 1\n",
    "            \n",
    "add_driver_subject_information(subject_dict, subject_temp, classname_temp, driver_classname_count)"
   ]
  },
  {
   "cell_type": "code",
   "execution_count": 8,
   "metadata": {},
   "outputs": [
    {
     "data": {
      "text/plain": [
       "dict_keys(['p002', 'p012', 'p014', 'p015', 'p016', 'p021', 'p022', 'p024', 'p026', 'p035', 'p039', 'p041', 'p042', 'p045', 'p047', 'p049', 'p050', 'p051', 'p052', 'p056', 'p061', 'p064', 'p066', 'p072', 'p075', 'p081'])"
      ]
     },
     "execution_count": 8,
     "metadata": {},
     "output_type": "execute_result"
    }
   ],
   "source": [
    "subject_dict.keys()"
   ]
  },
  {
   "cell_type": "code",
   "execution_count": 9,
   "metadata": {},
   "outputs": [
    {
     "name": "stdout",
     "output_type": "stream",
     "text": [
      "       c0   c1   c2   c3   c4   c5   c6   c7   c8   c9\n",
      "p002   76   75   87   80   85   77   84   73   45   51\n",
      "p012   84   96   92   90   98   97   76   73   63   62\n",
      "p014  100  104  101  101  104  103  102   78   39   52\n",
      "p015   79   86   89   95  102  102  100   82   87   61\n",
      "p016  111  103  102  129  105  105  109  102  100  120\n",
      "p021  135  132  128  129  133  131  127   99  100  131\n",
      "p022  129  130  129  130  131  131  132   99   99  131\n",
      "p024  130  130  129  131  130  132  130  102  100  120\n",
      "p026  130  130  131  132  127  131  129   98   98   98\n",
      "p035   94   82   89   90   90   90   95   88   57   81\n",
      "p039   65   64   71   66   63   65   64   65   71   65\n",
      "p041   60   65   61   61   61   62   62   62   60   59\n",
      "p042   59   60   61   60   59   60   60   60   60   60\n",
      "p045   75   76   77   76   76   77   72   68   67   68\n",
      "p047   80   92   82   87   83   88   82   83   83   83\n",
      "p049   84   86  120  111  110  117  120   75   80  116\n",
      "p050  123   46   53   99   84   92   83   82   66   70\n",
      "p051  182   82   82   84   82   84   96   81   63   92\n",
      "p052   72   72   85   76   73   73   78   72   72   75\n",
      "p056   81   81   81   79   83   82   81   75   84   75\n",
      "p061   84   82   82   84   80   82   81   80   82   80\n",
      "p064   83   82   84   85   87   86   83   80   82   76\n",
      "p066  129  101  107  102  103  102  106   87  115   90\n",
      "p072   63   63   37   32   35    7   36    3   22   56\n",
      "p075   81   82   86   80   90   80   83   83   80   77\n",
      "p081  100   91   97   83   78   82   80   78   62   80\n"
     ]
    }
   ],
   "source": [
    "subject_df = pd.DataFrame(index=subject_dict.keys(),\n",
    "                          columns=['c0', 'c1', 'c2', 'c3', 'c4', 'c5', 'c6', 'c7', 'c8', 'c9'])\n",
    "for key in subject_dict.keys():\n",
    "    subject_df.loc[key] = subject_dict[key]\n",
    "\n",
    "print(subject_df)"
   ]
  },
  {
   "cell_type": "markdown",
   "metadata": {
    "collapsed": true
   },
   "source": [
    "# 先训练C0\n",
    "\n",
    "## 步骤\n",
    "\n",
    "1. 找出每个标签下与该标签的驾驶状态不符的图片, 收集到outliers_dict上"
   ]
  },
  {
   "cell_type": "code",
   "execution_count": 4,
   "metadata": {
    "collapsed": true
   },
   "outputs": [],
   "source": [
    "outliers_dict = {}"
   ]
  },
  {
   "cell_type": "code",
   "execution_count": 28,
   "metadata": {
    "collapsed": true
   },
   "outputs": [],
   "source": [
    "def make_pic_filename(number):\n",
    "    str = 'img_%s.jpg' % number\n",
    "    return str"
   ]
  },
  {
   "cell_type": "code",
   "execution_count": 5,
   "metadata": {
    "collapsed": true
   },
   "outputs": [],
   "source": [
    "# 将异常值收集到异常值字典里\n",
    "def append_outliers_to_dict(_dict, classname, outliers):\n",
    "    _dict[classname] = outliers"
   ]
  },
  {
   "cell_type": "code",
   "execution_count": 30,
   "metadata": {
    "collapsed": true
   },
   "outputs": [],
   "source": [
    "def drop_outlier(origin_data, outliers):\n",
    "    pic_filenames = [list(data['img']).index(make_pic_filename(x)) for x in outliers]\n",
    "    new_df = origin_data.drop(origin_data.index[pic_filenames])\n",
    "    return new_df"
   ]
  },
  {
   "cell_type": "markdown",
   "metadata": {},
   "source": [
    "### 添加C0异常值"
   ]
  },
  {
   "cell_type": "code",
   "execution_count": 6,
   "metadata": {},
   "outputs": [],
   "source": [
    "outliers = ['100074', '101091', '101392', '101419', '101555', '101668', '10514', '14552', '14757', '16927',\n",
    "            '18680', '20144', '21155', '2151', '21699', '27453', '27568', '2843', '28578', '29350',\n",
    "            '31032', '31659', '3349', '34028', '34380', '35327', '35809', '3600', '36287', '36854',\n",
    "            '37728', '38288', '41079', '4335', '45005', '45571', '47447', '48931', '49150', '51985',\n",
    "            '53288', '54712', '56120', '56251', '56357', '58013', '58551', '5963', '6002', '60226',\n",
    "            '62095', '62383', '66097', '68134', '68246', '68266', '68629', '68630', '70795', '71478',\n",
    "            '71483', '71499', '73825', '79194', '81035', '81735', '86913', '87245', '88085', '89173',\n",
    "            '89653', '90273', '90865', '91414', '91777', '94842', '94969', '95252', '95596', '96741',\n",
    "            '99515', '99779', '99846']\n",
    "append_outliers_to_dict(outliers_dict, 'c0', outliers)"
   ]
  },
  {
   "cell_type": "markdown",
   "metadata": {},
   "source": [
    "### 添加C1异常值"
   ]
  },
  {
   "cell_type": "code",
   "execution_count": 7,
   "metadata": {
    "collapsed": true
   },
   "outputs": [],
   "source": [
    "outliers = []\n",
    "append_outliers_to_dict(outliers_dict, 'c1', outliers)"
   ]
  },
  {
   "cell_type": "markdown",
   "metadata": {},
   "source": [
    "### 添加C2异常值"
   ]
  },
  {
   "cell_type": "code",
   "execution_count": 8,
   "metadata": {
    "collapsed": true
   },
   "outputs": [],
   "source": [
    "outliers = ['69693', '76349', '86001']\n",
    "append_outliers_to_dict(outliers_dict, 'c2', outliers)"
   ]
  },
  {
   "cell_type": "markdown",
   "metadata": {},
   "source": [
    "### 添加C3异常值"
   ]
  },
  {
   "cell_type": "code",
   "execution_count": 9,
   "metadata": {
    "collapsed": true
   },
   "outputs": [],
   "source": [
    "outliers = []\n",
    "append_outliers_to_dict(outliers_dict, 'c3', outliers)"
   ]
  },
  {
   "cell_type": "markdown",
   "metadata": {},
   "source": [
    "### 添加C4异常值"
   ]
  },
  {
   "cell_type": "code",
   "execution_count": 10,
   "metadata": {
    "collapsed": true
   },
   "outputs": [],
   "source": [
    "outliers = ['35657', '38427', '40343', '53828', '63738', '77347', '9170', '92769']\n",
    "append_outliers_to_dict(outliers_dict, 'c4', outliers)"
   ]
  },
  {
   "cell_type": "markdown",
   "metadata": {},
   "source": [
    "### 添加C5异常值"
   ]
  },
  {
   "cell_type": "code",
   "execution_count": 11,
   "metadata": {
    "collapsed": true
   },
   "outputs": [],
   "source": [
    "outliers = ['101079', '12442', '19127', '27454', '44224', '78504', '87062']\n",
    "append_outliers_to_dict(outliers_dict, 'c5', outliers)"
   ]
  },
  {
   "cell_type": "markdown",
   "metadata": {},
   "source": [
    "### 添加C6异常值"
   ]
  },
  {
   "cell_type": "code",
   "execution_count": 12,
   "metadata": {
    "collapsed": true
   },
   "outputs": [],
   "source": [
    "outliers = []\n",
    "append_outliers_to_dict(outliers_dict, 'c6', outliers)"
   ]
  },
  {
   "cell_type": "markdown",
   "metadata": {},
   "source": [
    "### 添加C7异常值"
   ]
  },
  {
   "cell_type": "code",
   "execution_count": 13,
   "metadata": {
    "collapsed": true
   },
   "outputs": [],
   "source": [
    "outliers = ['74115', '7414', '95214']\n",
    "append_outliers_to_dict(outliers_dict, 'c7', outliers)"
   ]
  },
  {
   "cell_type": "markdown",
   "metadata": {},
   "source": [
    "### 添加C8异常值"
   ]
  },
  {
   "cell_type": "code",
   "execution_count": 14,
   "metadata": {
    "collapsed": true
   },
   "outputs": [],
   "source": [
    "outliers = ['10080', '100814', '11324', '13465', '13480', '13438', '13868', '14072', '14084', '14560',\n",
    "            '16971', '17480', '18737', '18970', '19323', '19616', '22941', '22971', '2378', '25081',\n",
    "            '26296', '26736', '27663', '27671', '31158', '31174', '36457', '37314', '41462', '42490',\n",
    "            '47484', '4853', '53436', '53620', '54379', '55008', '56078', '56122', '73917', '76663',\n",
    "            '83361', '89614']\n",
    "append_outliers_to_dict(outliers_dict, 'c8', outliers)"
   ]
  },
  {
   "cell_type": "markdown",
   "metadata": {},
   "source": [
    "### 添加C9异常值"
   ]
  },
  {
   "cell_type": "code",
   "execution_count": 15,
   "metadata": {
    "collapsed": true
   },
   "outputs": [],
   "source": [
    "outliers = ['11675', '10917', '1125', '11528', '11675', '12000', '12001', '12154', '13253', '13396',\n",
    "            '13762', '13982', '14737', '16428', '17355', '18759', '18819', '18997', '19209', '20002',\n",
    "            '20688', '20775', '21708', '21897', '24030', '24134', '24554', '25913', '26043', '26484',\n",
    "            '27342', '28025', '29320', '29556', '29906', '30092', '30172', '30893', '32125', '3318',\n",
    "            '37262', '38453', '38742', '44953', '51826', '52610', '52861', '59747', '60004', '607',\n",
    "            '61052', '60822', '60903', '61052', '62766', '66278', '67477', '68251', '69130', '69560',\n",
    "            '69710', '7091', '71015', '75597', '77889', '78934', '81214', '83528', '83868', '8480',\n",
    "            '8572', '87154', '89196', '91129', '96805', '97943']\n",
    "append_outliers_to_dict(outliers_dict, 'c9', outliers)"
   ]
  },
  {
   "cell_type": "code",
   "execution_count": 16,
   "metadata": {},
   "outputs": [
    {
     "data": {
      "text/plain": [
       "'100074'"
      ]
     },
     "execution_count": 16,
     "metadata": {},
     "output_type": "execute_result"
    }
   ],
   "source": [
    "outliers_dict['c0'][0]"
   ]
  },
  {
   "cell_type": "markdown",
   "metadata": {},
   "source": [
    "## 测试opencv"
   ]
  },
  {
   "cell_type": "code",
   "execution_count": 14,
   "metadata": {},
   "outputs": [
    {
     "data": {
      "text/plain": [
       "(480, 640, 3)"
      ]
     },
     "execution_count": 14,
     "metadata": {},
     "output_type": "execute_result"
    }
   ],
   "source": [
    "import cv2\n",
    "from skimage.io import imread, imshow, imsave\n",
    "img_sample = cv2.imread('../train/c0/img_100074.jpg')\n",
    "img_sample.shape"
   ]
  },
  {
   "cell_type": "code",
   "execution_count": 15,
   "metadata": {},
   "outputs": [
    {
     "data": {
      "image/png": "[encoded data removed]",
      "text/plain": [
       "<Figure size 432x288 with 1 Axes>"
      ]
     },
     "metadata": {},
     "output_type": "display_data"
    }
   ],
   "source": [
    "img_sample = cv2.cvtColor(img_sample, cv2.COLOR_BGR2RGB)\n",
    "img_sample = cv2.resize(img_sample, (128, 128))\n",
    "plt.imshow(img_sample)\n",
    "plt.show()"
   ]
  },
  {
   "cell_type": "code",
   "execution_count": 16,
   "metadata": {},
   "outputs": [
    {
     "data": {
      "text/plain": [
       "(128, 128, 3)"
      ]
     },
     "execution_count": 16,
     "metadata": {},
     "output_type": "execute_result"
    }
   ],
   "source": [
    "img_sample.shape"
   ]
  },
  {
   "cell_type": "markdown",
   "metadata": {},
   "source": [
    "## 预处理数据"
   ]
  },
  {
   "cell_type": "markdown",
   "metadata": {},
   "source": [
    "### 将训练集数据量划出一半作为调试代码用"
   ]
  },
  {
   "cell_type": "code",
   "execution_count": 2,
   "metadata": {},
   "outputs": [
    {
     "name": "stderr",
     "output_type": "stream",
     "text": [
      "/anaconda/lib/python3.6/site-packages/h5py/__init__.py:36: FutureWarning: Conversion of the second argument of issubdtype from `float` to `np.floating` is deprecated. In future, it will be treated as `np.float64 == np.dtype(float).type`.\n",
      "  from ._conv import register_converters as _register_converters\n"
     ]
    }
   ],
   "source": [
    "from skimage.io import imread, imshow, imsave\n",
    "from sklearn.preprocessing import Normalizer\n",
    "from sklearn.preprocessing import OneHotEncoder\n",
    "from sklearn.preprocessing import LabelBinarizer\n",
    "import cv2\n",
    "import os\n",
    "import problem_unittests as tests"
   ]
  },
  {
   "cell_type": "code",
   "execution_count": null,
   "metadata": {
    "collapsed": true
   },
   "outputs": [],
   "source": [
    "def random_sort(dataset):\n",
    "    pass"
   ]
  },
  {
   "cell_type": "code",
   "execution_count": 27,
   "metadata": {
    "collapsed": true
   },
   "outputs": [],
   "source": [
    "def img_to_array(label, img_name, resize):\n",
    "    img_load = cv2.imread('../train/%s/%s' % (label, img_name))\n",
    "    img_load = cv2.cvtColor(img_load, cv2.COLOR_BGR2RGB)\n",
    "    img_load = cv2.resize(img_load, resize)\n",
    "    return img_load"
   ]
  },
  {
   "cell_type": "code",
   "execution_count": 19,
   "metadata": {
    "collapsed": true
   },
   "outputs": [],
   "source": [
    "# 将训练集的数据量减半\n",
    "def wrap_half_train_data(origin_df):\n",
    "    new_df = origin_df.copy()\n",
    "    columns = new_df.columns.tolist()\n",
    "    for row, column in new_df.iterrows():\n",
    "        for c_item in columns:\n",
    "            new_df.loc[row, c_item] //= 2\n",
    "    return new_df"
   ]
  },
  {
   "cell_type": "code",
   "execution_count": null,
   "metadata": {
    "collapsed": true
   },
   "outputs": [],
   "source": [
    "def index_by_classname(classname, class_list):\n",
    "    if classname is 'c0':\n",
    "        return 0\n",
    "    else if classname is "
   ]
  },
  {
   "cell_type": "code",
   "execution_count": 28,
   "metadata": {
    "collapsed": true
   },
   "outputs": [],
   "source": [
    "def load_features_labels(img_list_df):\n",
    "    features_dict = {}\n",
    "    labels_dict = {}\n",
    "    classname_list = list(subject_df.columns)\n",
    "    labels = one_hot_encode(classname_list)\n",
    "    \n",
    "    for index, row in img_list_df.iterrows():\n",
    "        classname_item = row['classname']\n",
    "        index = classname_list.index(classname_item)\n",
    "        if classname_item in features_dict:\n",
    "            features_dict[classname_item].append(img_to_array(classname_item, row['img'], (128, 128)))\n",
    "            labels_dict[classname_item].append(labels[index])\n",
    "        else:\n",
    "            features_dict[classname_item] = [img_to_array(classname_item, row['img'], (128, 128))]\n",
    "            labels_dict[classname_item] = [labels[index]]\n",
    "            \n",
    "    return features_dict, labels_dict"
   ]
  },
  {
   "cell_type": "code",
   "execution_count": 29,
   "metadata": {
    "collapsed": true
   },
   "outputs": [],
   "source": [
    "features_dict, labels_dict = load_features_labels(data)"
   ]
  },
  {
   "cell_type": "markdown",
   "metadata": {},
   "source": [
    "### 将改变图像尺寸并保存到指定路径中"
   ]
  },
  {
   "cell_type": "code",
   "execution_count": 16,
   "metadata": {
    "collapsed": true
   },
   "outputs": [],
   "source": [
    "cnn_model_name = 'cnn/'\n",
    "resize_image_directory = '../resize/'\n",
    "origin_image_directory = '../train/'\n",
    "cnn_train_image_directory = resize_image_directory + resize_image_directory + 'train/'"
   ]
  },
  {
   "cell_type": "code",
   "execution_count": 4,
   "metadata": {},
   "outputs": [
    {
     "data": {
      "image/png": "[encoded data removed]",
      "text/plain": [
       "<Figure size 432x288 with 1 Axes>"
      ]
     },
     "metadata": {},
     "output_type": "display_data"
    }
   ],
   "source": [
    "from preprocess_image import *\n",
    "temp = load_image('img_100026.jpg', '../resize/cnn/train/c0', '../train/c0', (128, 128), show_image=True)"
   ]
  },
  {
   "cell_type": "code",
   "execution_count": 17,
   "metadata": {
    "collapsed": true
   },
   "outputs": [],
   "source": [
    "def get_image_number(image_name):\n",
    "    return re.split(r\"[_.]\", image_name)"
   ]
  },
  {
   "cell_type": "code",
   "execution_count": 18,
   "metadata": {
    "collapsed": true
   },
   "outputs": [],
   "source": [
    "def is_outlier(image_name, class_name):\n",
    "    image_number = get_image_number(image_name)\n",
    "    image_array = outliers_dict[class_name]\n",
    "    return image_number in image_array"
   ]
  },
  {
   "cell_type": "code",
   "execution_count": 19,
   "metadata": {},
   "outputs": [],
   "source": [
    "def load_driver_feature(image_names, class_names, resize_path, origin_path, resize, show_image=False):\n",
    "    image_array = []\n",
    "    for image_name, class_name in zip(image_names, class_names):\n",
    "        if is_outlier(image_name, class_name):\n",
    "            continue\n",
    "        resize_class_path = resize_path + '/' + class_name\n",
    "        origin_class_path = origin_path + '/' + class_name\n",
    "        image_array.append(load_image(image_name, resize_class_path, origin_class_path, resize, show_image))\n",
    "    return image_array"
   ]
  },
  {
   "cell_type": "code",
   "execution_count": 21,
   "metadata": {},
   "outputs": [],
   "source": [
    "image_names = img_drivers_df[img_drivers_df['subject'] == 'p002']['img'].values.tolist()\n",
    "class_names = img_drivers_df[img_drivers_df['subject'] == 'p002']['classname'].values.tolist()\n",
    "image_array = load_driver_feature(\n",
    "    image_names,\n",
    "    class_names,\n",
    "    cnn_train_image_directory,\n",
    "    origin_image_directory,\n",
    "    (128, 128))"
   ]
  },
  {
   "cell_type": "code",
   "execution_count": 22,
   "metadata": {},
   "outputs": [
    {
     "data": {
      "text/plain": [
       "725"
      ]
     },
     "execution_count": 22,
     "metadata": {},
     "output_type": "execute_result"
    }
   ],
   "source": [
    "len(image_array)"
   ]
  },
  {
   "cell_type": "code",
   "execution_count": null,
   "metadata": {
    "collapsed": true
   },
   "outputs": [],
   "source": [
    "def train_test_split(img_list_df, subject_df):\n",
    "    x = []\n",
    "    y = []\n",
    "    driver_count = 0\n",
    "    labels = one_hot_encode(list(subject_df.columns))\n",
    "    \n",
    "    for index, row in data.iterrows():\n",
    "        if row[]\n",
    "        \n",
    "    "
   ]
  },
  {
   "cell_type": "code",
   "execution_count": 83,
   "metadata": {},
   "outputs": [
    {
     "data": {
      "text/html": [
       "<div>\n",
       "<style scoped>\n",
       "    .dataframe tbody tr th:only-of-type {\n",
       "        vertical-align: middle;\n",
       "    }\n",
       "\n",
       "    .dataframe tbody tr th {\n",
       "        vertical-align: top;\n",
       "    }\n",
       "\n",
       "    .dataframe thead th {\n",
       "        text-align: right;\n",
       "    }\n",
       "</style>\n",
       "<table border=\"1\" class=\"dataframe\">\n",
       "  <thead>\n",
       "    <tr style=\"text-align: right;\">\n",
       "      <th></th>\n",
       "      <th>c0</th>\n",
       "      <th>c1</th>\n",
       "      <th>c2</th>\n",
       "      <th>c3</th>\n",
       "      <th>c4</th>\n",
       "      <th>c5</th>\n",
       "      <th>c6</th>\n",
       "      <th>c7</th>\n",
       "      <th>c8</th>\n",
       "      <th>c9</th>\n",
       "    </tr>\n",
       "  </thead>\n",
       "  <tbody>\n",
       "    <tr>\n",
       "      <th>p002</th>\n",
       "      <td>38</td>\n",
       "      <td>37</td>\n",
       "      <td>43</td>\n",
       "      <td>40</td>\n",
       "      <td>42</td>\n",
       "      <td>38</td>\n",
       "      <td>42</td>\n",
       "      <td>36</td>\n",
       "      <td>22</td>\n",
       "      <td>25</td>\n",
       "    </tr>\n",
       "    <tr>\n",
       "      <th>p012</th>\n",
       "      <td>42</td>\n",
       "      <td>48</td>\n",
       "      <td>46</td>\n",
       "      <td>45</td>\n",
       "      <td>49</td>\n",
       "      <td>48</td>\n",
       "      <td>38</td>\n",
       "      <td>36</td>\n",
       "      <td>31</td>\n",
       "      <td>31</td>\n",
       "    </tr>\n",
       "    <tr>\n",
       "      <th>p014</th>\n",
       "      <td>50</td>\n",
       "      <td>52</td>\n",
       "      <td>50</td>\n",
       "      <td>50</td>\n",
       "      <td>52</td>\n",
       "      <td>51</td>\n",
       "      <td>51</td>\n",
       "      <td>39</td>\n",
       "      <td>19</td>\n",
       "      <td>26</td>\n",
       "    </tr>\n",
       "    <tr>\n",
       "      <th>p015</th>\n",
       "      <td>39</td>\n",
       "      <td>43</td>\n",
       "      <td>44</td>\n",
       "      <td>47</td>\n",
       "      <td>51</td>\n",
       "      <td>51</td>\n",
       "      <td>50</td>\n",
       "      <td>41</td>\n",
       "      <td>43</td>\n",
       "      <td>30</td>\n",
       "    </tr>\n",
       "    <tr>\n",
       "      <th>p016</th>\n",
       "      <td>55</td>\n",
       "      <td>51</td>\n",
       "      <td>51</td>\n",
       "      <td>64</td>\n",
       "      <td>52</td>\n",
       "      <td>52</td>\n",
       "      <td>54</td>\n",
       "      <td>51</td>\n",
       "      <td>50</td>\n",
       "      <td>60</td>\n",
       "    </tr>\n",
       "  </tbody>\n",
       "</table>\n",
       "</div>"
      ],
      "text/plain": [
       "      c0  c1  c2  c3  c4  c5  c6  c7  c8  c9\n",
       "p002  38  37  43  40  42  38  42  36  22  25\n",
       "p012  42  48  46  45  49  48  38  36  31  31\n",
       "p014  50  52  50  50  52  51  51  39  19  26\n",
       "p015  39  43  44  47  51  51  50  41  43  30\n",
       "p016  55  51  51  64  52  52  54  51  50  60"
      ]
     },
     "execution_count": 83,
     "metadata": {},
     "output_type": "execute_result"
    }
   ],
   "source": [
    "subject_half_df = wrap_half_train_data(subject_df)\n",
    "subject_half_df.head()"
   ]
  },
  {
   "cell_type": "code",
   "execution_count": 120,
   "metadata": {},
   "outputs": [
    {
     "ename": "AssertionError",
     "evalue": "Encodings returned different results for the same numbers.\nFor the first call it returned:\n[[0 0 0 0 1 0 0 0 0 0]\n [1 0 0 0 0 0 0 0 0 0]\n [0 0 0 0 0 0 0 0 0 1]\n [0 0 0 0 0 0 0 1 0 0]\n [0 0 0 0 1 0 0 0 0 0]]\nFor the second call it returned\n[[0 1 0 0]\n [1 0 0 0]\n [0 0 0 1]\n [0 0 1 0]\n [0 1 0 0]]\nMake sure you save the map of labels to encodings outside of the function.",
     "output_type": "error",
     "traceback": [
      "\u001b[0;31m---------------------------------------------------------------------------\u001b[0m",
      "\u001b[0;31mAssertionError\u001b[0m                            Traceback (most recent call last)",
      "\u001b[0;32m<ipython-input-120-350d2efadb80>\u001b[0m in \u001b[0;36m<module>\u001b[0;34m()\u001b[0m\n\u001b[0;32m----> 1\u001b[0;31m \u001b[0mtests\u001b[0m\u001b[0;34m.\u001b[0m\u001b[0mtest_one_hot_encode\u001b[0m\u001b[0;34m(\u001b[0m\u001b[0mone_hot_encode\u001b[0m\u001b[0;34m)\u001b[0m\u001b[0;34m\u001b[0m\u001b[0m\n\u001b[0m",
      "\u001b[0;32m/Users/Was/Documents/state-farm-distracted-driver-detection/distracted_driver_detection/problem_unittests.py\u001b[0m in \u001b[0;36mtest_one_hot_encode\u001b[0;34m(one_hot_encode)\u001b[0m\n\u001b[1;32m     71\u001b[0m         \u001b[0;34m'For the second call it returned\\n'\u001b[0m\u001b[0;31m \u001b[0m\u001b[0;31m\\\u001b[0m\u001b[0;34m\u001b[0m\u001b[0m\n\u001b[1;32m     72\u001b[0m         \u001b[0;34m'{}\\n'\u001b[0m\u001b[0;31m \u001b[0m\u001b[0;31m\\\u001b[0m\u001b[0;34m\u001b[0m\u001b[0m\n\u001b[0;32m---> 73\u001b[0;31m         \u001b[0;34m'Make sure you save the map of labels to encodings outside of the function.'\u001b[0m\u001b[0;34m.\u001b[0m\u001b[0mformat\u001b[0m\u001b[0;34m(\u001b[0m\u001b[0menc_labels\u001b[0m\u001b[0;34m,\u001b[0m \u001b[0mnew_enc_labels\u001b[0m\u001b[0;34m)\u001b[0m\u001b[0;34m\u001b[0m\u001b[0m\n\u001b[0m\u001b[1;32m     74\u001b[0m \u001b[0;34m\u001b[0m\u001b[0m\n\u001b[1;32m     75\u001b[0m     \u001b[0m_print_success_message\u001b[0m\u001b[0;34m(\u001b[0m\u001b[0;34m)\u001b[0m\u001b[0;34m\u001b[0m\u001b[0m\n",
      "\u001b[0;31mAssertionError\u001b[0m: Encodings returned different results for the same numbers.\nFor the first call it returned:\n[[0 0 0 0 1 0 0 0 0 0]\n [1 0 0 0 0 0 0 0 0 0]\n [0 0 0 0 0 0 0 0 0 1]\n [0 0 0 0 0 0 0 1 0 0]\n [0 0 0 0 1 0 0 0 0 0]]\nFor the second call it returned\n[[0 1 0 0]\n [1 0 0 0]\n [0 0 0 1]\n [0 0 1 0]\n [0 1 0 0]]\nMake sure you save the map of labels to encodings outside of the function."
     ]
    }
   ],
   "source": [
    "tests.test_one_hot_encode(one_hot_encode)"
   ]
  },
  {
   "cell_type": "code",
   "execution_count": 129,
   "metadata": {},
   "outputs": [
    {
     "data": {
      "text/plain": [
       "array([[1, 0, 0, 0, 0, 0, 0, 0, 0, 0],\n",
       "       [0, 1, 0, 0, 0, 0, 0, 0, 0, 0],\n",
       "       [0, 0, 1, 0, 0, 0, 0, 0, 0, 0],\n",
       "       [0, 0, 0, 1, 0, 0, 0, 0, 0, 0],\n",
       "       [0, 0, 0, 0, 1, 0, 0, 0, 0, 0],\n",
       "       [0, 0, 0, 0, 0, 1, 0, 0, 0, 0],\n",
       "       [0, 0, 0, 0, 0, 0, 1, 0, 0, 0],\n",
       "       [0, 0, 0, 0, 0, 0, 0, 1, 0, 0],\n",
       "       [0, 0, 0, 0, 0, 0, 0, 0, 1, 0],\n",
       "       [0, 0, 0, 0, 0, 0, 0, 0, 0, 1]])"
      ]
     },
     "execution_count": 129,
     "metadata": {},
     "output_type": "execute_result"
    }
   ],
   "source": [
    "one_hot_encode(['c0', 'c1', 'c2', 'c3', 'c4', 'c5', 'c6', 'c7', 'c8', 'c9'])"
   ]
  },
  {
   "cell_type": "code",
   "execution_count": 132,
   "metadata": {},
   "outputs": [
    {
     "data": {
      "text/plain": [
       "['c0', 'c1', 'c2', 'c3', 'c4', 'c5', 'c6', 'c7', 'c8', 'c9']"
      ]
     },
     "execution_count": 132,
     "metadata": {},
     "output_type": "execute_result"
    }
   ],
   "source": [
    "list(subject_half_df.columns)"
   ]
  },
  {
   "cell_type": "code",
   "execution_count": null,
   "metadata": {
    "collapsed": true
   },
   "outputs": [],
   "source": []
  }
 ],
 "metadata": {
  "kernelspec": {
   "display_name": "Python 3",
   "language": "python",
   "name": "python3"
  },
  "language_info": {
   "codemirror_mode": {
    "name": "ipython",
    "version": 3
   },
   "file_extension": ".py",
   "mimetype": "text/x-python",
   "name": "python",
   "nbconvert_exporter": "python",
   "pygments_lexer": "ipython3",
   "version": "3.6.5"
  }
 },
 "nbformat": 4,
 "nbformat_minor": 2
}
